{
 "cells": [
  {
   "cell_type": "code",
   "execution_count": 1,
   "metadata": {},
   "outputs": [],
   "source": [
    "import pandas as pd\n",
    "import pandas as pd\n",
    "import requests\n",
    "from bs4 import BeautifulSoup\n",
    "import re\n",
    "import os\n",
    "import time\n",
    "from random import randint\n",
    "import xml.etree.ElementTree as et \n",
    "import feedparser\n",
    "import webbrowser"
   ]
  },
  {
   "cell_type": "markdown",
   "metadata": {},
   "source": [
    "### We didn't use these methods to gather the funds cik, but it is a good way to collect cik numbers (that submit 13f filings) for future analysis"
   ]
  },
  {
   "cell_type": "code",
   "execution_count": 2,
   "metadata": {},
   "outputs": [
    {
     "name": "stdout",
     "output_type": "stream",
     "text": [
      "0001785445\n",
      "0001821984\n",
      "0001785445\n",
      "0001085146\n",
      "0001420506\n",
      "0001754960\n",
      "0001859606\n",
      "0001630243\n",
      "0001062993\n",
      "0001792851\n",
      "0001085146\n",
      "0000947871\n",
      "0001606587\n",
      "0001415345\n",
      "0001398344\n",
      "0001085146\n",
      "0000950123\n",
      "0001831263\n",
      "0001732988\n",
      "0001533964\n",
      "0001862145\n",
      "0001732687\n",
      "0001831263\n",
      "0001831263\n",
      "0001843867\n",
      "0001831263\n",
      "0001831263\n",
      "0001843867\n",
      "0000714142\n",
      "0001420506\n",
      "0001567619\n",
      "0001567619\n",
      "0001764754\n",
      "0001567619\n",
      "0001642274\n",
      "0000949509\n",
      "0000949509\n",
      "0001862145\n",
      "0001214659\n",
      "0001493152\n",
      "0001621225\n",
      "0001456227\n",
      "0001845743\n",
      "0001845743\n",
      "0001172661\n",
      "0001750557\n",
      "0001621855\n",
      "0001540866\n",
      "0001849518\n",
      "0001567619\n",
      "0001861244\n",
      "0001861244\n",
      "0001861244\n",
      "0001830922\n",
      "0001861244\n",
      "0001861244\n",
      "0001861244\n",
      "0001861244\n",
      "0001861244\n",
      "0001845199\n",
      "0001861244\n",
      "0001861244\n",
      "0001831187\n",
      "0000919574\n",
      "0000949509\n",
      "0001172661\n",
      "0001104659\n",
      "0001398344\n",
      "0001822534\n",
      "0001822534\n",
      "0001085146\n",
      "0001398344\n",
      "0001420506\n",
      "0001178913\n",
      "0001104659\n",
      "0001844495\n",
      "0001777141\n",
      "0001469026\n",
      "0001569137\n",
      "0001398344\n",
      "0001844567\n",
      "0001398344\n",
      "0001767868\n",
      "0001846532\n",
      "0001095449\n",
      "0001081019\n",
      "0001420506\n",
      "0001085146\n",
      "0001609251\n",
      "0001085146\n",
      "0001750405\n",
      "0001848704\n",
      "0001843527\n",
      "0001621855\n",
      "0001077583\n",
      "0001762776\n",
      "0001756485\n",
      "0000944733\n",
      "0001761269\n",
      "0001846532\n",
      "0001861244\n",
      "0001555829\n",
      "0001846532\n",
      "0001846532\n",
      "0001086763\n",
      "0000950123\n",
      "0001848237\n",
      "0001398344\n",
      "0001085146\n",
      "0000949509\n",
      "0001846532\n",
      "0001846532\n",
      "0001846532\n",
      "0001849055\n",
      "0000938165\n",
      "0001846532\n",
      "0001420506\n",
      "0000919574\n",
      "0001493152\n",
      "0001665590\n",
      "0001595888\n",
      "0001493152\n",
      "0001131181\n",
      "0001698926\n",
      "0001513137\n",
      "0001793904\n",
      "0001642274\n",
      "0000902664\n",
      "0001172661\n",
      "0001844424\n",
      "0001221073\n",
      "0001567619\n",
      "0001840561\n",
      "0001454027\n",
      "0001743413\n",
      "0001846532\n",
      "0001846532\n",
      "0001861244\n",
      "0001717479\n",
      "0001802984\n",
      "0001420506\n",
      "0001214659\n",
      "0001214659\n",
      "0001085146\n",
      "0001733356\n"
     ]
    }
   ],
   "source": [
    "#latest, and updates every few minutes...around 150 cik -  https://sec.report/Form/13F-HR.rss\n",
    "\n",
    "i = 0\n",
    "cik_list3 = []\n",
    "RSS = feedparser.parse('https://sec.report/Form/13F-HR.rss')\n",
    "feed_entries = RSS.entries\n",
    "\n",
    "for entry in feed_entries:\n",
    "    title = entry.guid\n",
    "    try: \n",
    "        doc = title.split(\"/\")[4]      \n",
    "        CIK = doc.split(\"-\")[0]\n",
    "        cik_list3.append(CIK)\n",
    "        print(CIK)\n",
    "    except:\n",
    "        i += 1\n",
    "        print(i)\n",
    "        pass\n",
    "\n"
   ]
  },
  {
   "cell_type": "code",
   "execution_count": 3,
   "metadata": {},
   "outputs": [
    {
     "data": {
      "text/plain": [
       "81"
      ]
     },
     "execution_count": 3,
     "metadata": {},
     "output_type": "execute_result"
    }
   ],
   "source": [
    "cik_set = set(cik_list3)\n",
    "len(cik_set)"
   ]
  },
  {
   "cell_type": "code",
   "execution_count": 5,
   "metadata": {},
   "outputs": [],
   "source": [
    "#in search shows thousands, but we can scrape only 80 at a time\n",
    "XMLlink = 'https://www.sec.gov/cgi-bin/srch-edgar?text=form-type%3D%2213F-HR%22%20AND%20Period%3D%2220201231%22&start=1&count=80&first=2020&last=2021&output=atom'\n",
    "\n",
    "cik_list = []\n",
    "RSS = feedparser.parse(XMLlink)\n",
    "feed_entries = RSS.entries\n",
    "\n",
    "for entry in feed_entries:\n",
    "    link = entry.link\n",
    "    cik = link.split(\"/\")[6]\n",
    "    cik_list.append(cik)"
   ]
  },
  {
   "cell_type": "code",
   "execution_count": 7,
   "metadata": {},
   "outputs": [
    {
     "data": {
      "text/plain": [
       "81"
      ]
     },
     "execution_count": 7,
     "metadata": {},
     "output_type": "execute_result"
    }
   ],
   "source": [
    "# len(cik_list)"
   ]
  },
  {
   "attachments": {
    "image.png": {
     "image/png": "[encoded data removed]"
    }
   },
   "cell_type": "markdown",
   "metadata": {},
   "source": [
    "![image.png](attachment:image.png)"
   ]
  },
  {
   "cell_type": "code",
   "execution_count": 4,
   "metadata": {},
   "outputs": [],
   "source": [
    "#latest, and updates every few minutes...around 150 cik -  https://sec.report/Form/13F-HR.rss\n",
    "i = 0\n",
    "cik_list2 = []\n",
    "RSS = feedparser.parse('https://sec.report/Form/13F-HR.rss')\n",
    "feed_entries = RSS.entries\n",
    "\n",
    "for entry in feed_entries:\n",
    "    title = entry.description\n",
    "    try: \n",
    "        name = re.search('-\\s(.+)\\s\\(\\d+\\)\\s\\(Filer\\)', title).group(1)\n",
    "        CIK = re.search('\\((\\d+)\\)\\s\\(Filer\\)', title)[1]\n",
    "        cik_list2.append(CIK)\n",
    "        print(CIK,name)\n",
    "    except:\n",
    "        i += 1\n",
    "        print(i)\n",
    "        pass\n",
    "    \n",
    "    \n",
    "    \n"
   ]
  }
 ],
 "metadata": {
  "kernelspec": {
   "display_name": "Python 3",
   "language": "python",
   "name": "python3"
  },
  "language_info": {
   "codemirror_mode": {
    "name": "ipython",
    "version": 3
   },
   "file_extension": ".py",
   "mimetype": "text/x-python",
   "name": "python",
   "nbconvert_exporter": "python",
   "pygments_lexer": "ipython3",
   "version": "3.8.5"
  }
 },
 "nbformat": 4,
 "nbformat_minor": 4
}
